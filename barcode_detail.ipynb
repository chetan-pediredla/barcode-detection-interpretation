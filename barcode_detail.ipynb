{
 "cells": [
  {
   "cell_type": "markdown",
   "metadata": {},
   "source": [
    "####  importing  libraries: OpenCV (cv2), Pillow (Image), NumPy (np), Pandas (pd), and Matplotlib (plt)."
   ]
  },
  {
   "cell_type": "code",
   "execution_count": 17,
   "metadata": {
    "colab": {
     "base_uri": "https://localhost:8080/"
    },
    "id": "pHUStCqjE7Tp",
    "outputId": "cacd2643-7e73-4ad5-febe-661cfeb6f850"
   },
   "outputs": [
    {
     "name": "stdout",
     "output_type": "stream",
     "text": [
      "CPU times: total: 0 ns\n",
      "Wall time: 0 ns\n"
     ]
    }
   ],
   "source": [
    "%%time \n",
    "import cv2\n",
    "from PIL import Image\n",
    "import numpy as np\n",
    "import pandas as pd\n",
    "import matplotlib.pyplot as plt"
   ]
  },
  {
   "cell_type": "code",
   "execution_count": 18,
   "metadata": {
    "id": "AiQCJPATJCre"
   },
   "outputs": [],
   "source": [
    "img = cv2.imread('/content/test2.png')"
   ]
  },
  {
   "cell_type": "markdown",
   "metadata": {},
   "source": [
    "#### This code defines a function cont_hi that takes a numpy array num_img representing an image as input. The function then iterates through each pixel of the image, computes the mean of its RGB values, and if the mean is less than 180, sets the RGB values to the mean, otherwise sets them to 255 (white). Finally, the function returns the modified image as a numpy array"
   ]
  },
  {
   "cell_type": "code",
   "execution_count": 19,
   "metadata": {
    "id": "dsi-dEMrJGdE"
   },
   "outputs": [],
   "source": [
    "def cont_hi(num_img):\n",
    "        #num_img = asarray(img)\n",
    "        #num_img.setflags(write=1)\n",
    "        for i in range(0 , len(num_img)):\n",
    "            for j in range(0, len(num_img[i]) ):\n",
    "                #if num_img[i][j][0] <= 200  and num_img[i][j][1] <= 200 and num_img[i][j][2] <= 200:\n",
    "                mean1 = np.mean(num_img[i][j])\n",
    "                #mean1_lst.append(mean1)\n",
    "                if mean1 < 180: #180:\n",
    "                    num_img[i][j][0] = mean1\n",
    "                    num_img[i][j][1] = mean1\n",
    "                    num_img[i][j][2] = mean1\n",
    "                else:\n",
    "                    num_img[i][j][0] = 255\n",
    "                    num_img[i][j][1] = 255\n",
    "                    num_img[i][j][2] = 255\n",
    "        #img = Image.fromarray(num_img)\n",
    "        return num_img"
   ]
  },
  {
   "cell_type": "markdown",
   "metadata": {},
   "source": [
    "#### This code applies the cont_hi function to an image represented as a numpy array img, which modifies the pixel values of the image based on their mean RGB values. Then, it saves the modified image as a JPEG file named 'bar1.jpg' using cv2.imwrite(), and displays the modified image using the Image.fromarray() method from the Pillow library. "
   ]
  },
  {
   "cell_type": "markdown",
   "metadata": {
    "colab": {
     "base_uri": "https://localhost:8080/",
     "height": 644
    },
    "id": "AnDKwnS4MKOz",
    "outputId": "e5eaf827-1079-497f-97d1-d53377f8d647"
   },
   "source": [
    "%%time\n",
    "img = cont_hi(img)\n",
    "#img = defs.img2txt.thresholding(img)\n",
    "cv2.imwrite('bar1.jpg',img)\n",
    "Image.fromarray(img)"
   ]
  },
  {
   "cell_type": "code",
   "execution_count": 20,
   "metadata": {
    "colab": {
     "base_uri": "https://localhost:8080/"
    },
    "id": "Z1CoCiCZd_uV",
    "outputId": "a42bb421-5c69-40c0-d64e-d1898dcb09b1"
   },
   "outputs": [
    {
     "data": {
      "text/plain": [
       "(591, 905, 3)"
      ]
     },
     "execution_count": 20,
     "metadata": {},
     "output_type": "execute_result"
    }
   ],
   "source": [
    "#assigns image's height, length, and number of channels to three variables h, l, and m,\n",
    "#img = cv2.imread('bar1.jpg')\n",
    "img = cv2.imread('test2.png')\n",
    "h,l,m = np.shape(img)\n",
    "h,l,m"
   ]
  },
  {
   "cell_type": "markdown",
   "metadata": {},
   "source": [
    "#### this code extracts a single row (80th row) from the img numpy array representing an image, then iterates through each pixel in that row and appends either 1 or 0 to the arr list, based on the mean RGB value of the pixel being greater than or less than 100, respectively. Finally, it prints the length and contents of the arr list using the print() function"
   ]
  },
  {
   "cell_type": "code",
   "execution_count": 21,
   "metadata": {
    "colab": {
     "base_uri": "https://localhost:8080/"
    },
    "id": "oGNGMO0jeFk_",
    "outputId": "06f341a0-f75d-4c7a-85b3-668cdc0f6ae9"
   },
   "outputs": [
    {
     "name": "stdout",
     "output_type": "stream",
     "text": [
      "905\n",
      "[1, 1, 1, 1, 1, 1, 1, 1, 1, 1, 1, 1, 1, 1, 1, 1, 1, 1, 1, 1, 1, 1, 1, 1, 1, 1, 1, 1, 1, 1, 1, 1, 1, 1, 1, 1, 1, 1, 1, 1, 1, 1, 1, 1, 1, 1, 1, 1, 1, 1, 1, 1, 1, 1, 1, 1, 1, 1, 1, 1, 1, 1, 1, 1, 1, 1, 1, 1, 1, 1, 1, 1, 0, 0, 0, 0, 0, 0, 0, 0, 1, 1, 1, 1, 1, 1, 1, 1, 0, 0, 0, 0, 0, 0, 0, 0, 1, 1, 1, 1, 1, 1, 1, 0, 0, 0, 0, 0, 0, 0, 0, 0, 0, 0, 0, 0, 0, 0, 0, 0, 0, 0, 0, 0, 0, 0, 0, 0, 1, 1, 1, 1, 1, 1, 1, 0, 0, 0, 0, 0, 0, 0, 0, 0, 0, 0, 0, 0, 0, 0, 0, 0, 1, 1, 1, 1, 1, 1, 1, 1, 1, 1, 1, 1, 1, 1, 1, 1, 1, 1, 1, 1, 1, 1, 1, 1, 0, 0, 0, 0, 0, 0, 0, 0, 0, 0, 0, 0, 0, 0, 0, 0, 1, 1, 1, 1, 1, 1, 1, 1, 0, 0, 0, 0, 0, 0, 0, 0, 1, 1, 1, 1, 1, 1, 1, 1, 0, 0, 0, 0, 0, 0, 0, 0, 0, 0, 0, 0, 0, 0, 0, 0, 1, 1, 1, 1, 1, 1, 1, 1, 1, 1, 1, 1, 1, 1, 1, 1, 1, 1, 1, 1, 1, 1, 1, 1, 0, 0, 0, 0, 0, 0, 0, 0, 1, 1, 1, 1, 1, 1, 1, 1, 0, 0, 0, 0, 0, 0, 0, 0, 1, 1, 1, 1, 1, 1, 1, 1, 0, 0, 0, 0, 0, 0, 0, 0, 0, 0, 0, 0, 0, 0, 0, 0, 0, 0, 0, 0, 0, 0, 0, 0, 0, 0, 0, 0, 0, 0, 0, 0, 1, 1, 1, 1, 1, 1, 1, 1, 0, 0, 0, 0, 0, 0, 0, 0, 0, 0, 0, 0, 0, 0, 0, 0, 0, 0, 0, 0, 0, 0, 0, 0, 0, 0, 0, 0, 0, 0, 0, 0, 1, 1, 1, 1, 1, 1, 1, 1, 0, 0, 0, 0, 0, 0, 0, 0, 1, 1, 1, 1, 1, 1, 1, 1, 1, 1, 1, 1, 1, 1, 1, 1, 1, 0, 0, 0, 0, 0, 0, 0, 1, 1, 1, 1, 1, 1, 1, 1, 1, 1, 1, 1, 1, 1, 1, 1, 1, 0, 0, 0, 0, 0, 0, 0, 0, 0, 0, 0, 0, 0, 0, 0, 1, 1, 1, 1, 1, 1, 1, 1, 0, 0, 0, 0, 0, 0, 0, 0, 1, 1, 1, 1, 1, 1, 1, 1, 0, 0, 0, 0, 0, 0, 0, 0, 1, 1, 1, 1, 1, 1, 1, 1, 0, 0, 0, 0, 0, 0, 0, 0, 0, 0, 0, 0, 0, 0, 0, 0, 0, 0, 0, 0, 0, 0, 0, 0, 1, 1, 1, 1, 1, 1, 1, 1, 1, 1, 1, 1, 1, 1, 1, 1, 0, 0, 0, 0, 0, 0, 0, 0, 1, 1, 1, 1, 1, 1, 1, 1, 0, 0, 0, 0, 0, 0, 0, 1, 1, 1, 1, 1, 1, 1, 1, 1, 1, 1, 1, 1, 1, 1, 1, 1, 0, 0, 0, 0, 0, 0, 0, 1, 1, 1, 1, 1, 1, 1, 1, 1, 1, 1, 1, 1, 1, 1, 1, 1, 1, 1, 1, 1, 1, 1, 1, 1, 0, 0, 0, 0, 0, 0, 0, 0, 1, 1, 1, 1, 1, 1, 1, 1, 1, 1, 1, 1, 1, 1, 1, 1, 0, 0, 0, 0, 0, 0, 0, 0, 0, 0, 0, 0, 0, 0, 0, 0, 0, 0, 0, 0, 0, 0, 0, 0, 1, 1, 1, 1, 1, 1, 1, 1, 0, 0, 0, 0, 0, 0, 0, 0, 0, 0, 0, 0, 0, 0, 0, 0, 0, 0, 0, 0, 0, 0, 0, 0, 1, 1, 1, 1, 1, 1, 1, 1, 0, 0, 0, 0, 0, 0, 0, 0, 1, 1, 1, 1, 1, 1, 1, 1, 1, 1, 1, 1, 1, 1, 1, 1, 0, 0, 0, 0, 0, 0, 0, 0, 1, 1, 1, 1, 1, 1, 1, 1, 0, 0, 0, 0, 0, 0, 0, 0, 0, 0, 0, 0, 0, 0, 0, 0, 0, 0, 0, 0, 0, 0, 0, 0, 1, 1, 1, 1, 1, 1, 1, 1, 1, 1, 1, 1, 1, 1, 1, 1, 0, 0, 0, 0, 0, 0, 0, 0, 1, 1, 1, 1, 1, 1, 1, 1, 1, 1, 1, 1, 1, 1, 1, 1, 1, 1, 1, 1, 1, 1, 1, 1, 1, 1, 1, 1, 1, 1, 1, 1, 0, 0, 0, 0, 0, 0, 0, 0, 1, 1, 1, 1, 1, 1, 1, 1, 0, 0, 0, 0, 0, 0, 0, 0, 1, 1, 1, 1, 1, 1, 1, 1, 0, 0, 0, 0, 0, 0, 0, 0, 1, 1, 1, 1, 1, 1, 1, 1, 1, 1, 1, 1, 1, 1, 1, 1, 1, 1, 1, 1, 1, 1, 1, 1, 1, 1, 1, 1, 1, 1, 1, 1, 1, 1, 1, 1, 1, 1, 1, 1, 1, 1, 1, 1, 1, 1, 1, 1, 1, 1, 1, 1, 1, 1, 1, 1, 1, 1, 1, 1, 1, 1, 1, 1, 1, 1, 1, 1, 1, 1, 1, 1, 1]\n",
      "CPU times: total: 0 ns\n",
      "Wall time: 10 ms\n"
     ]
    }
   ],
   "source": [
    "%%time\n",
    "arr = []\n",
    "#for i in range(0, len(img)):\n",
    "#for i in range(round(h/2), round(h/2)+1):  # 100th row is selected\n",
    "for i in range(80,81):  # 100th row is selected    \n",
    "    for j in range(0, len(img[i])):        # read all columns in 100th row\n",
    "        if np.mean(img[i][j]) >= 100:      #\n",
    "            arr.append(1)                  # white\n",
    "        else:\n",
    "            arr.append(0)                  # black\n",
    "print(len(arr))\n",
    "print(arr)"
   ]
  },
  {
   "cell_type": "markdown",
   "metadata": {},
   "source": [
    "#### This code creates a pandas DataFrame df from the arr list, with a single column named 'val' containing either 1 or 0. It then groups the DataFrame by consecutive groups of identical values in the 'val' column, calculates the size of each group, and stores the result in the df DataFrame as two columns 'val' and 'count', where 'val' contains either 1 or 0, and 'count' contains the size of the consecutive groups of those values. Finally, it renames the columns of the DataFrame to 'val' and 'count' using the df.columns attribute, and returns the resulting DataFrame"
   ]
  },
  {
   "cell_type": "code",
   "execution_count": 22,
   "metadata": {
    "colab": {
     "base_uri": "https://localhost:8080/",
     "height": 459
    },
    "id": "drU_wR5FeJGc",
    "outputId": "32c38852-0fcf-45a2-b49b-34f62dd86af8"
   },
   "outputs": [
    {
     "name": "stdout",
     "output_type": "stream",
     "text": [
      "CPU times: total: 0 ns\n",
      "Wall time: 38.8 ms\n"
     ]
    },
    {
     "data": {
      "text/html": [
       "<div>\n",
       "<style scoped>\n",
       "    .dataframe tbody tr th:only-of-type {\n",
       "        vertical-align: middle;\n",
       "    }\n",
       "\n",
       "    .dataframe tbody tr th {\n",
       "        vertical-align: top;\n",
       "    }\n",
       "\n",
       "    .dataframe thead th {\n",
       "        text-align: right;\n",
       "    }\n",
       "</style>\n",
       "<table border=\"1\" class=\"dataframe\">\n",
       "  <thead>\n",
       "    <tr style=\"text-align: right;\">\n",
       "      <th></th>\n",
       "      <th>val</th>\n",
       "      <th>count</th>\n",
       "    </tr>\n",
       "  </thead>\n",
       "  <tbody>\n",
       "    <tr>\n",
       "      <th>0</th>\n",
       "      <td>1</td>\n",
       "      <td>72</td>\n",
       "    </tr>\n",
       "    <tr>\n",
       "      <th>1</th>\n",
       "      <td>0</td>\n",
       "      <td>8</td>\n",
       "    </tr>\n",
       "    <tr>\n",
       "      <th>2</th>\n",
       "      <td>1</td>\n",
       "      <td>8</td>\n",
       "    </tr>\n",
       "    <tr>\n",
       "      <th>3</th>\n",
       "      <td>0</td>\n",
       "      <td>8</td>\n",
       "    </tr>\n",
       "    <tr>\n",
       "      <th>4</th>\n",
       "      <td>1</td>\n",
       "      <td>7</td>\n",
       "    </tr>\n",
       "    <tr>\n",
       "      <th>...</th>\n",
       "      <td>...</td>\n",
       "      <td>...</td>\n",
       "    </tr>\n",
       "    <tr>\n",
       "      <th>56</th>\n",
       "      <td>1</td>\n",
       "      <td>8</td>\n",
       "    </tr>\n",
       "    <tr>\n",
       "      <th>57</th>\n",
       "      <td>0</td>\n",
       "      <td>8</td>\n",
       "    </tr>\n",
       "    <tr>\n",
       "      <th>58</th>\n",
       "      <td>1</td>\n",
       "      <td>8</td>\n",
       "    </tr>\n",
       "    <tr>\n",
       "      <th>59</th>\n",
       "      <td>0</td>\n",
       "      <td>8</td>\n",
       "    </tr>\n",
       "    <tr>\n",
       "      <th>60</th>\n",
       "      <td>1</td>\n",
       "      <td>73</td>\n",
       "    </tr>\n",
       "  </tbody>\n",
       "</table>\n",
       "<p>61 rows × 2 columns</p>\n",
       "</div>"
      ],
      "text/plain": [
       "    val  count\n",
       "0     1     72\n",
       "1     0      8\n",
       "2     1      8\n",
       "3     0      8\n",
       "4     1      7\n",
       "..  ...    ...\n",
       "56    1      8\n",
       "57    0      8\n",
       "58    1      8\n",
       "59    0      8\n",
       "60    1     73\n",
       "\n",
       "[61 rows x 2 columns]"
      ]
     },
     "execution_count": 22,
     "metadata": {},
     "output_type": "execute_result"
    }
   ],
   "source": [
    "%%time\n",
    "df = pd.DataFrame(arr, columns=['val'])\n",
    "df = df.groupby([df['val'].ne(df['val'].shift()).cumsum(), 'val']).size()\n",
    "df = df.reset_index(level=0, drop=True)\n",
    "#print(df)\n",
    "df = pd.DataFrame(df)\n",
    "df = df.reset_index()\n",
    "df.columns = ['val','count']\n",
    "df"
   ]
  },
  {
   "cell_type": "markdown",
   "metadata": {},
   "source": [
    "#### This code creates two new DataFrame objects df0 and df1 from the original df DataFrame. df0 only keeps consecutive groups of '0' values from the 'val' column, and df1 only keeps consecutive groups of '1' values from the 'val' column. This is achieved by iterating through the 'val' column of the DataFrame and dropping any rows where the 'val' value is not equal to the target value (either 0 or 1), then resetting the indices of the resulting DataFrame."
   ]
  },
  {
   "cell_type": "code",
   "execution_count": 23,
   "metadata": {
    "colab": {
     "base_uri": "https://localhost:8080/"
    },
    "id": "NeX6shvHeP_L",
    "outputId": "51cb72ee-3348-4f7c-f02a-eea7acb958a8"
   },
   "outputs": [
    {
     "name": "stdout",
     "output_type": "stream",
     "text": [
      "CPU times: total: 31.2 ms\n",
      "Wall time: 31.3 ms\n"
     ]
    }
   ],
   "source": [
    "%%time\n",
    "#REMOVE WHITE==============KEEP BLACK=======\n",
    "df0 = df.copy()\n",
    "for i in range(0, len(df0['val']) ):\n",
    "    if df0['val'][i] == 1:\n",
    "        df0.drop([i], inplace = True)\n",
    "\n",
    "df0 = df0.reset_index(level=0, drop=True)\n",
    "\n",
    "#REMOVE BLACK==============KEEP WHITE========\n",
    "df1 = df.copy()\n",
    "for i in range(0, len(df1['val']) ):\n",
    "    if df1['val'][i] == 0:\n",
    "        df1.drop([i], inplace = True)\n",
    "\n",
    "df1 = df1.reset_index(level=0, drop=True)"
   ]
  },
  {
   "cell_type": "code",
   "execution_count": 24,
   "metadata": {
    "colab": {
     "base_uri": "https://localhost:8080/",
     "height": 989
    },
    "id": "uUdVqDQieUe1",
    "outputId": "821b75c3-3593-4f7a-9f74-e8b85f0a4303"
   },
   "outputs": [
    {
     "data": {
      "text/html": [
       "<div>\n",
       "<style scoped>\n",
       "    .dataframe tbody tr th:only-of-type {\n",
       "        vertical-align: middle;\n",
       "    }\n",
       "\n",
       "    .dataframe tbody tr th {\n",
       "        vertical-align: top;\n",
       "    }\n",
       "\n",
       "    .dataframe thead th {\n",
       "        text-align: right;\n",
       "    }\n",
       "</style>\n",
       "<table border=\"1\" class=\"dataframe\">\n",
       "  <thead>\n",
       "    <tr style=\"text-align: right;\">\n",
       "      <th></th>\n",
       "      <th>val</th>\n",
       "      <th>count</th>\n",
       "    </tr>\n",
       "  </thead>\n",
       "  <tbody>\n",
       "    <tr>\n",
       "      <th>0</th>\n",
       "      <td>0</td>\n",
       "      <td>8</td>\n",
       "    </tr>\n",
       "    <tr>\n",
       "      <th>1</th>\n",
       "      <td>0</td>\n",
       "      <td>8</td>\n",
       "    </tr>\n",
       "    <tr>\n",
       "      <th>2</th>\n",
       "      <td>0</td>\n",
       "      <td>25</td>\n",
       "    </tr>\n",
       "    <tr>\n",
       "      <th>3</th>\n",
       "      <td>0</td>\n",
       "      <td>17</td>\n",
       "    </tr>\n",
       "    <tr>\n",
       "      <th>4</th>\n",
       "      <td>0</td>\n",
       "      <td>16</td>\n",
       "    </tr>\n",
       "    <tr>\n",
       "      <th>5</th>\n",
       "      <td>0</td>\n",
       "      <td>8</td>\n",
       "    </tr>\n",
       "    <tr>\n",
       "      <th>6</th>\n",
       "      <td>0</td>\n",
       "      <td>16</td>\n",
       "    </tr>\n",
       "    <tr>\n",
       "      <th>7</th>\n",
       "      <td>0</td>\n",
       "      <td>8</td>\n",
       "    </tr>\n",
       "    <tr>\n",
       "      <th>8</th>\n",
       "      <td>0</td>\n",
       "      <td>8</td>\n",
       "    </tr>\n",
       "    <tr>\n",
       "      <th>9</th>\n",
       "      <td>0</td>\n",
       "      <td>32</td>\n",
       "    </tr>\n",
       "    <tr>\n",
       "      <th>10</th>\n",
       "      <td>0</td>\n",
       "      <td>32</td>\n",
       "    </tr>\n",
       "    <tr>\n",
       "      <th>11</th>\n",
       "      <td>0</td>\n",
       "      <td>8</td>\n",
       "    </tr>\n",
       "    <tr>\n",
       "      <th>12</th>\n",
       "      <td>0</td>\n",
       "      <td>7</td>\n",
       "    </tr>\n",
       "    <tr>\n",
       "      <th>13</th>\n",
       "      <td>0</td>\n",
       "      <td>15</td>\n",
       "    </tr>\n",
       "    <tr>\n",
       "      <th>14</th>\n",
       "      <td>0</td>\n",
       "      <td>8</td>\n",
       "    </tr>\n",
       "    <tr>\n",
       "      <th>15</th>\n",
       "      <td>0</td>\n",
       "      <td>8</td>\n",
       "    </tr>\n",
       "    <tr>\n",
       "      <th>16</th>\n",
       "      <td>0</td>\n",
       "      <td>24</td>\n",
       "    </tr>\n",
       "    <tr>\n",
       "      <th>17</th>\n",
       "      <td>0</td>\n",
       "      <td>8</td>\n",
       "    </tr>\n",
       "    <tr>\n",
       "      <th>18</th>\n",
       "      <td>0</td>\n",
       "      <td>7</td>\n",
       "    </tr>\n",
       "    <tr>\n",
       "      <th>19</th>\n",
       "      <td>0</td>\n",
       "      <td>7</td>\n",
       "    </tr>\n",
       "    <tr>\n",
       "      <th>20</th>\n",
       "      <td>0</td>\n",
       "      <td>8</td>\n",
       "    </tr>\n",
       "    <tr>\n",
       "      <th>21</th>\n",
       "      <td>0</td>\n",
       "      <td>24</td>\n",
       "    </tr>\n",
       "    <tr>\n",
       "      <th>22</th>\n",
       "      <td>0</td>\n",
       "      <td>24</td>\n",
       "    </tr>\n",
       "    <tr>\n",
       "      <th>23</th>\n",
       "      <td>0</td>\n",
       "      <td>8</td>\n",
       "    </tr>\n",
       "    <tr>\n",
       "      <th>24</th>\n",
       "      <td>0</td>\n",
       "      <td>8</td>\n",
       "    </tr>\n",
       "    <tr>\n",
       "      <th>25</th>\n",
       "      <td>0</td>\n",
       "      <td>24</td>\n",
       "    </tr>\n",
       "    <tr>\n",
       "      <th>26</th>\n",
       "      <td>0</td>\n",
       "      <td>8</td>\n",
       "    </tr>\n",
       "    <tr>\n",
       "      <th>27</th>\n",
       "      <td>0</td>\n",
       "      <td>8</td>\n",
       "    </tr>\n",
       "    <tr>\n",
       "      <th>28</th>\n",
       "      <td>0</td>\n",
       "      <td>8</td>\n",
       "    </tr>\n",
       "    <tr>\n",
       "      <th>29</th>\n",
       "      <td>0</td>\n",
       "      <td>8</td>\n",
       "    </tr>\n",
       "  </tbody>\n",
       "</table>\n",
       "</div>"
      ],
      "text/plain": [
       "    val  count\n",
       "0     0      8\n",
       "1     0      8\n",
       "2     0     25\n",
       "3     0     17\n",
       "4     0     16\n",
       "5     0      8\n",
       "6     0     16\n",
       "7     0      8\n",
       "8     0      8\n",
       "9     0     32\n",
       "10    0     32\n",
       "11    0      8\n",
       "12    0      7\n",
       "13    0     15\n",
       "14    0      8\n",
       "15    0      8\n",
       "16    0     24\n",
       "17    0      8\n",
       "18    0      7\n",
       "19    0      7\n",
       "20    0      8\n",
       "21    0     24\n",
       "22    0     24\n",
       "23    0      8\n",
       "24    0      8\n",
       "25    0     24\n",
       "26    0      8\n",
       "27    0      8\n",
       "28    0      8\n",
       "29    0      8"
      ]
     },
     "execution_count": 24,
     "metadata": {},
     "output_type": "execute_result"
    }
   ],
   "source": [
    "df0"
   ]
  },
  {
   "cell_type": "code",
   "execution_count": 25,
   "metadata": {
    "colab": {
     "base_uri": "https://localhost:8080/",
     "height": 1000
    },
    "id": "AunZdYydeXBW",
    "outputId": "784fab05-7a8a-4fcc-cf22-e93b91c08a87"
   },
   "outputs": [
    {
     "data": {
      "text/html": [
       "<div>\n",
       "<style scoped>\n",
       "    .dataframe tbody tr th:only-of-type {\n",
       "        vertical-align: middle;\n",
       "    }\n",
       "\n",
       "    .dataframe tbody tr th {\n",
       "        vertical-align: top;\n",
       "    }\n",
       "\n",
       "    .dataframe thead th {\n",
       "        text-align: right;\n",
       "    }\n",
       "</style>\n",
       "<table border=\"1\" class=\"dataframe\">\n",
       "  <thead>\n",
       "    <tr style=\"text-align: right;\">\n",
       "      <th></th>\n",
       "      <th>val</th>\n",
       "      <th>count</th>\n",
       "    </tr>\n",
       "  </thead>\n",
       "  <tbody>\n",
       "    <tr>\n",
       "      <th>0</th>\n",
       "      <td>1</td>\n",
       "      <td>72</td>\n",
       "    </tr>\n",
       "    <tr>\n",
       "      <th>1</th>\n",
       "      <td>1</td>\n",
       "      <td>8</td>\n",
       "    </tr>\n",
       "    <tr>\n",
       "      <th>2</th>\n",
       "      <td>1</td>\n",
       "      <td>7</td>\n",
       "    </tr>\n",
       "    <tr>\n",
       "      <th>3</th>\n",
       "      <td>1</td>\n",
       "      <td>7</td>\n",
       "    </tr>\n",
       "    <tr>\n",
       "      <th>4</th>\n",
       "      <td>1</td>\n",
       "      <td>24</td>\n",
       "    </tr>\n",
       "    <tr>\n",
       "      <th>5</th>\n",
       "      <td>1</td>\n",
       "      <td>8</td>\n",
       "    </tr>\n",
       "    <tr>\n",
       "      <th>6</th>\n",
       "      <td>1</td>\n",
       "      <td>8</td>\n",
       "    </tr>\n",
       "    <tr>\n",
       "      <th>7</th>\n",
       "      <td>1</td>\n",
       "      <td>24</td>\n",
       "    </tr>\n",
       "    <tr>\n",
       "      <th>8</th>\n",
       "      <td>1</td>\n",
       "      <td>8</td>\n",
       "    </tr>\n",
       "    <tr>\n",
       "      <th>9</th>\n",
       "      <td>1</td>\n",
       "      <td>8</td>\n",
       "    </tr>\n",
       "    <tr>\n",
       "      <th>10</th>\n",
       "      <td>1</td>\n",
       "      <td>8</td>\n",
       "    </tr>\n",
       "    <tr>\n",
       "      <th>11</th>\n",
       "      <td>1</td>\n",
       "      <td>8</td>\n",
       "    </tr>\n",
       "    <tr>\n",
       "      <th>12</th>\n",
       "      <td>1</td>\n",
       "      <td>17</td>\n",
       "    </tr>\n",
       "    <tr>\n",
       "      <th>13</th>\n",
       "      <td>1</td>\n",
       "      <td>17</td>\n",
       "    </tr>\n",
       "    <tr>\n",
       "      <th>14</th>\n",
       "      <td>1</td>\n",
       "      <td>8</td>\n",
       "    </tr>\n",
       "    <tr>\n",
       "      <th>15</th>\n",
       "      <td>1</td>\n",
       "      <td>8</td>\n",
       "    </tr>\n",
       "    <tr>\n",
       "      <th>16</th>\n",
       "      <td>1</td>\n",
       "      <td>8</td>\n",
       "    </tr>\n",
       "    <tr>\n",
       "      <th>17</th>\n",
       "      <td>1</td>\n",
       "      <td>16</td>\n",
       "    </tr>\n",
       "    <tr>\n",
       "      <th>18</th>\n",
       "      <td>1</td>\n",
       "      <td>8</td>\n",
       "    </tr>\n",
       "    <tr>\n",
       "      <th>19</th>\n",
       "      <td>1</td>\n",
       "      <td>17</td>\n",
       "    </tr>\n",
       "    <tr>\n",
       "      <th>20</th>\n",
       "      <td>1</td>\n",
       "      <td>25</td>\n",
       "    </tr>\n",
       "    <tr>\n",
       "      <th>21</th>\n",
       "      <td>1</td>\n",
       "      <td>16</td>\n",
       "    </tr>\n",
       "    <tr>\n",
       "      <th>22</th>\n",
       "      <td>1</td>\n",
       "      <td>8</td>\n",
       "    </tr>\n",
       "    <tr>\n",
       "      <th>23</th>\n",
       "      <td>1</td>\n",
       "      <td>8</td>\n",
       "    </tr>\n",
       "    <tr>\n",
       "      <th>24</th>\n",
       "      <td>1</td>\n",
       "      <td>16</td>\n",
       "    </tr>\n",
       "    <tr>\n",
       "      <th>25</th>\n",
       "      <td>1</td>\n",
       "      <td>8</td>\n",
       "    </tr>\n",
       "    <tr>\n",
       "      <th>26</th>\n",
       "      <td>1</td>\n",
       "      <td>16</td>\n",
       "    </tr>\n",
       "    <tr>\n",
       "      <th>27</th>\n",
       "      <td>1</td>\n",
       "      <td>32</td>\n",
       "    </tr>\n",
       "    <tr>\n",
       "      <th>28</th>\n",
       "      <td>1</td>\n",
       "      <td>8</td>\n",
       "    </tr>\n",
       "    <tr>\n",
       "      <th>29</th>\n",
       "      <td>1</td>\n",
       "      <td>8</td>\n",
       "    </tr>\n",
       "    <tr>\n",
       "      <th>30</th>\n",
       "      <td>1</td>\n",
       "      <td>73</td>\n",
       "    </tr>\n",
       "  </tbody>\n",
       "</table>\n",
       "</div>"
      ],
      "text/plain": [
       "    val  count\n",
       "0     1     72\n",
       "1     1      8\n",
       "2     1      7\n",
       "3     1      7\n",
       "4     1     24\n",
       "5     1      8\n",
       "6     1      8\n",
       "7     1     24\n",
       "8     1      8\n",
       "9     1      8\n",
       "10    1      8\n",
       "11    1      8\n",
       "12    1     17\n",
       "13    1     17\n",
       "14    1      8\n",
       "15    1      8\n",
       "16    1      8\n",
       "17    1     16\n",
       "18    1      8\n",
       "19    1     17\n",
       "20    1     25\n",
       "21    1     16\n",
       "22    1      8\n",
       "23    1      8\n",
       "24    1     16\n",
       "25    1      8\n",
       "26    1     16\n",
       "27    1     32\n",
       "28    1      8\n",
       "29    1      8\n",
       "30    1     73"
      ]
     },
     "execution_count": 25,
     "metadata": {},
     "output_type": "execute_result"
    }
   ],
   "source": [
    "df1"
   ]
  },
  {
   "cell_type": "code",
   "execution_count": 26,
   "metadata": {
    "colab": {
     "base_uri": "https://localhost:8080/",
     "height": 440
    },
    "id": "DNWX3_9PebNr",
    "outputId": "60115a90-1ded-498c-f9f3-cd8abe1fd43a"
   },
   "outputs": [
    {
     "data": {
      "image/png": "[encoded data removed]",
      "text/plain": [
       "<Figure size 1300x500 with 1 Axes>"
      ]
     },
     "metadata": {},
     "output_type": "display_data"
    }
   ],
   "source": [
    "plt.figure(figsize=(13,5))\n",
    "plt.plot(df0['count'])\n",
    "plt.grid()"
   ]
  },
  {
   "cell_type": "code",
   "execution_count": 27,
   "metadata": {
    "colab": {
     "base_uri": "https://localhost:8080/"
    },
    "id": "IN7yA9zAedbk",
    "outputId": "8fa06a64-897e-460a-9b66-7ba046818560"
   },
   "outputs": [
    {
     "name": "stdout",
     "output_type": "stream",
     "text": [
      "[1, 1, 3, 2, 2, 1, 2, 1, 1, 4, 4, 1, 1, 2, 1, 1, 3, 1, 1, 1, 1, 3, 3, 1, 1, 3, 1, 1, 1, 1]\n",
      "CPU times: total: 0 ns\n",
      "Wall time: 1 ms\n"
     ]
    }
   ],
   "source": [
    "%%time\n",
    "#these limits are to be changed as per the graph above.\n",
    "#one might also consider resizing the images to a fixed size to normalize to some extent.\n",
    "arrb = []\n",
    "for i in range(0, len(df0['val'])):\n",
    "    \n",
    "    if df0['count'][i] <= 12:\n",
    "        arrb.append(1)\n",
    "        \n",
    "    elif df0['count'][i] > 12 and df0['count'][i] <= 20:\n",
    "        arrb.append(2)\n",
    "        \n",
    "    elif df0['count'][i] > 20 and df0['count'][i] <= 25:\n",
    "        arrb.append(3)\n",
    "        \n",
    "    elif df0['count'][i] > 25 and df0['count'][i] <= 50:\n",
    "        arrb.append(4)\n",
    "\n",
    "print(arrb)"
   ]
  },
  {
   "cell_type": "code",
   "execution_count": 28,
   "metadata": {
    "colab": {
     "base_uri": "https://localhost:8080/",
     "height": 857
    },
    "id": "9yxmrgSDejaM",
    "outputId": "c6c2fa38-2f50-4a73-c894-8ab19bf25a85"
   },
   "outputs": [
    {
     "name": "stdout",
     "output_type": "stream",
     "text": [
      "CPU times: total: 0 ns\n",
      "Wall time: 25.7 ms\n"
     ]
    },
    {
     "data": {
      "image/png": "[encoded data removed]",
      "text/plain": [
       "<Figure size 1300x1000 with 1 Axes>"
      ]
     },
     "metadata": {},
     "output_type": "display_data"
    }
   ],
   "source": [
    "%%time\n",
    "plt.figure(figsize=(13,10))\n",
    "plt.plot(df1['count'])\n",
    "plt.grid()"
   ]
  },
  {
   "cell_type": "code",
   "execution_count": 29,
   "metadata": {
    "colab": {
     "base_uri": "https://localhost:8080/"
    },
    "id": "x5EveVHUez_s",
    "outputId": "07cb68d9-46cc-4530-fac8-6117a61a55c4"
   },
   "outputs": [
    {
     "name": "stdout",
     "output_type": "stream",
     "text": [
      "[4, 1, 1, 1, 3, 1, 1, 3, 1, 1, 1, 1, 2, 2, 1, 1, 1, 2, 1, 2, 3, 2, 1, 1, 2, 1, 2, 4, 1, 1, 4]\n",
      "CPU times: total: 0 ns\n",
      "Wall time: 1.99 ms\n"
     ]
    }
   ],
   "source": [
    "%%time\n",
    "arrw = []\n",
    "for i in range(0, len(df1['val'])):\n",
    "    \n",
    "    if df1['count'][i] <= 10:\n",
    "        arrw.append(1)\n",
    "        \n",
    "    elif df1['count'][i] > 10 and df1['count'][i] <= 20:\n",
    "        arrw.append(2)\n",
    "        \n",
    "    elif df1['count'][i] > 20 and df1['count'][i] <= 30:\n",
    "        arrw.append(3)\n",
    "        \n",
    "    elif df1['count'][i] > 30 and df1['count'][i] <= 120:\n",
    "        arrw.append(4)\n",
    "         \n",
    "print(arrw)"
   ]
  },
  {
   "cell_type": "code",
   "execution_count": 30,
   "metadata": {
    "colab": {
     "base_uri": "https://localhost:8080/"
    },
    "id": "aNNNjnnYe5_k",
    "outputId": "ecec5220-f4a5-4251-f02a-2b0b68931160"
   },
   "outputs": [
    {
     "name": "stdout",
     "output_type": "stream",
     "text": [
      "[4, 1, 1, 1, 1, 3, 1, 2, 3, 2, 1, 1, 1, 2, 3, 1, 1, 1, 1, 4, 1, 4, 1, 1, 2, 1, 2, 2, 1, 1, 1, 1, 1, 3, 2, 1, 1, 1, 2, 1, 3, 1, 2, 3, 1, 3, 1, 1, 2, 1, 1, 3, 2, 1, 4, 1, 1, 1, 1, 1, 4]\n",
      "61\n",
      "CPU times: total: 0 ns\n",
      "Wall time: 0 ns\n"
     ]
    }
   ],
   "source": [
    "%%time\n",
    "arr = []\n",
    "\n",
    "for i in range(0, len(arrb)):\n",
    "    arr.append(arrw[i])\n",
    "    arr.append(arrb[i])\n",
    "arr.append(arrw[len(arrw)-1])\n",
    "print(arr)\n",
    "print(len(arr))"
   ]
  },
  {
   "cell_type": "code",
   "execution_count": 31,
   "metadata": {
    "colab": {
     "base_uri": "https://localhost:8080/"
    },
    "id": "kgr_ZcJwe-eK",
    "outputId": "60003acf-ba25-4de9-bbcf-a7e83581198e"
   },
   "outputs": [
    {
     "name": "stdout",
     "output_type": "stream",
     "text": [
      "[1, 3, 1, 2, 3, 2, 1, 1, 1, 2, 3, 1, 1, 1, 1, 4, 1, 4, 1, 1, 2, 1, 2, 2, 1, 1, 1, 1, 1, 3, 2, 1, 1, 1, 2, 1, 3, 1, 2, 3, 1, 3, 1, 1, 2, 1, 1, 3, 2, 1, 4, 1, 1]\n",
      "53\n"
     ]
    }
   ],
   "source": [
    "arr = arr[4:-4]\n",
    "print(arr)\n",
    "print(len(arr))"
   ]
  },
  {
   "cell_type": "code",
   "execution_count": 32,
   "metadata": {
    "colab": {
     "base_uri": "https://localhost:8080/"
    },
    "id": "5EKVoTtQfBUK",
    "outputId": "4d810907-beec-4691-c055-5cc2eb0ff56c"
   },
   "outputs": [
    {
     "name": "stdout",
     "output_type": "stream",
     "text": [
      "[1, 3, 1, 2, 3, 2, 1, 1, 1, 2, 3, 1, 1, 1, 1, 4, 1, 4, 1, 1, 2, 1, 2, 2, 3, 2, 1, 1, 1, 2, 1, 3, 1, 2, 3, 1, 3, 1, 1, 2, 1, 1, 3, 2, 1, 4, 1, 1]\n",
      "48\n"
     ]
    }
   ],
   "source": [
    "arr.pop(24); arr.pop(24); arr.pop(24); arr.pop(24); arr.pop(24); \n",
    "print(arr)\n",
    "print(len(arr))"
   ]
  },
  {
   "cell_type": "code",
   "execution_count": 33,
   "metadata": {
    "colab": {
     "base_uri": "https://localhost:8080/"
    },
    "id": "NjzLVja8fDW-",
    "outputId": "9fc13aac-f129-43b9-fa12-d5b464ffc4e9"
   },
   "outputs": [
    {
     "name": "stdout",
     "output_type": "stream",
     "text": [
      "0 1 2 3\n",
      "4 5 6 7\n",
      "8 9 10 11\n",
      "12 13 14 15\n",
      "16 17 18 19\n",
      "20 21 22 23\n",
      "24 25 26 27\n",
      "28 29 30 31\n",
      "32 33 34 35\n",
      "36 37 38 39\n",
      "40 41 42 43\n",
      "44 45 46 47\n",
      "[['1312'], ['3211'], ['1231'], ['1114'], ['1411'], ['2122'], ['3211'], ['1213'], ['1231'], ['3112'], ['1132'], ['1411']]\n"
     ]
    }
   ],
   "source": [
    "j=-4\n",
    "arr1 = []\n",
    "while j < len(arr)-4:\n",
    "    j  = j+4\n",
    "    print(str(j) +' '+ str(j+1) +' '+ str(j+2) +' '+ str(j+3))\n",
    "    arr1.append( [( str(arr[j]) + str(arr[j+1]) + str(arr[j+2]) + str(arr[j+3]) )] )\n",
    "print(arr1)"
   ]
  },
  {
   "cell_type": "code",
   "execution_count": 34,
   "metadata": {
    "colab": {
     "base_uri": "https://localhost:8080/"
    },
    "id": "qBE1rYDNfFo9",
    "outputId": "5d43db5d-f7a6-4f61-902d-3554f4dcc863"
   },
   "outputs": [
    {
     "name": "stdout",
     "output_type": "stream",
     "text": [
      "\n",
      "CODE:  705632085943\n"
     ]
    }
   ],
   "source": [
    "code = []\n",
    "for i in range(0, len(arr1)):\n",
    "    if arr1[i][0]== '3211':\n",
    "        code.append('0')\n",
    "    elif arr1[i][0]== '2221':\n",
    "        code.append('1')\n",
    "    elif arr1[i][0]== '2122':\n",
    "        code.append('2')\n",
    "    elif arr1[i][0]== '1411':\n",
    "        code.append('3')\n",
    "    elif arr1[i][0]== '1132':\n",
    "        code.append('4')\n",
    "    elif arr1[i][0]== '1231':\n",
    "        code.append('5')\n",
    "    elif arr1[i][0]== '1114':\n",
    "        code.append('6')\n",
    "    elif arr1[i][0]== '1312':\n",
    "        code.append('7')\n",
    "    elif arr1[i][0]== '1213':\n",
    "        code.append('8')\n",
    "    elif arr1[i][0]== '3112':\n",
    "        code.append('9')\n",
    "    else:\n",
    "        code.append('R')\n",
    "\n",
    "code = ''.join(code)\n",
    "print('\\nCODE: ',code)"
   ]
  },
  {
   "cell_type": "code",
   "execution_count": 35,
   "metadata": {
    "colab": {
     "base_uri": "https://localhost:8080/",
     "height": 438
    },
    "id": "5MS49f-8fOP5",
    "outputId": "4299aa23-fd16-4ef9-ce03-9cfb9970750b"
   },
   "outputs": [
    {
     "data": {
      "image/png": "[encoded data removed]",
      "text/plain": [
       "<Figure size 1300x500 with 1 Axes>"
      ]
     },
     "metadata": {},
     "output_type": "display_data"
    }
   ],
   "source": [
    "plt.figure(figsize=(13,5))\n",
    "plt.plot(arr)\n",
    "plt.grid()"
   ]
  },
  {
   "cell_type": "code",
   "execution_count": 36,
   "metadata": {
    "colab": {
     "base_uri": "https://localhost:8080/"
    },
    "id": "LzNQv5g6f-Mi",
    "outputId": "f544dd13-b017-4d21-f914-f29aca17143a"
   },
   "outputs": [
    {
     "data": {
      "text/plain": [
       "[1, 5]"
      ]
     },
     "execution_count": 36,
     "metadata": {},
     "output_type": "execute_result"
    }
   ],
   "source": [
    "rrr = [1,2,3,4,5]\n",
    "rrr.pop(1);rrr.pop(1);rrr.pop(1)\n",
    "rrr"
   ]
  },
  {
   "cell_type": "code",
   "execution_count": null,
   "metadata": {
    "id": "GA_EfSF5gA23"
   },
   "outputs": [],
   "source": []
  }
 ],
 "metadata": {
  "colab": {
   "provenance": []
  },
  "kernelspec": {
   "display_name": "Python 3 (ipykernel)",
   "language": "python",
   "name": "python3"
  },
  "language_info": {
   "codemirror_mode": {
    "name": "ipython",
    "version": 3
   },
   "file_extension": ".py",
   "mimetype": "text/x-python",
   "name": "python",
   "nbconvert_exporter": "python",
   "pygments_lexer": "ipython3",
   "version": "3.11.3"
  }
 },
 "nbformat": 4,
 "nbformat_minor": 1
}
